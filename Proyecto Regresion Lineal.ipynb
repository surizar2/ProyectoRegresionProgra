{
 "cells": [
  {
   "cell_type": "code",
   "execution_count": 54,
   "metadata": {},
   "outputs": [],
   "source": [
    "import numpy as np\n",
    "import pandas as pd\n",
    "import seaborn as sb"
   ]
  },
  {
   "cell_type": "code",
   "execution_count": 55,
   "metadata": {},
   "outputs": [],
   "source": [
    "###función para cargar los datos y generar el dataframe ya revuelto\n",
    "def CargaDatos():\n",
    "    TrainingData = np.load('proyecto_training_data.npy')\n",
    "    DataRegression = pd.DataFrame(TrainingData,columns =['SalePrice','OveralQual', '1stFlrSF', 'TotRmsAbvGrd', 'YearBuilt', 'LotFrontage'])\n",
    "    DataRegression = DataRegression.sample(frac = 1, ignore_index=True)\n",
    "    DataTrain = DataRegression.iloc[0:int(len(DataRegression)*.8),:]\n",
    "    DataTest = DataRegression.iloc[int(len(DataRegression)*0.8):len(DataRegression), : ]\n",
    "    \n",
    "\n",
    "    return DataRegression, DataTrain, DataTest"
   ]
  },
  {
   "cell_type": "code",
   "execution_count": null,
   "metadata": {},
   "outputs": [],
   "source": []
  },
  {
   "cell_type": "code",
   "execution_count": 56,
   "metadata": {},
   "outputs": [
    {
     "name": "stdout",
     "output_type": "stream",
     "text": [
      "La longitud del Data Frame original es 1460\n",
      " La Longitud del set de entrenamiento es 1168'\n",
      " La longitud del segmento de pruebas es 292\n",
      "   SalePrice  OveralQual  1stFlrSF  TotRmsAbvGrd  YearBuilt  LotFrontage\n",
      "0   221500.0         7.0    1614.0           7.0     2005.0         86.0\n",
      "1   191000.0         7.0     909.0           7.0     1996.0         70.0\n",
      "2   187500.0         6.0     976.0           9.0     1966.0          NaN\n",
      "3   339750.0         8.0    1050.0           8.0     2007.0         85.0\n",
      "4   257500.0         6.0    1839.0           7.0     1957.0        110.0\n",
      "      SalePrice  OveralQual  1stFlrSF  TotRmsAbvGrd  YearBuilt  LotFrontage\n",
      "1167   215000.0         6.0    1602.0           8.0     1977.0          NaN\n",
      "      SalePrice  OveralQual  1stFlrSF  TotRmsAbvGrd  YearBuilt  LotFrontage\n",
      "1163   147000.0         5.0    1120.0           6.0     2007.0         70.0\n",
      "1164   231500.0         7.0     963.0           7.0     2001.0         80.0\n",
      "1165   103600.0         6.0     697.0           6.0     1925.0         54.0\n",
      "1166   190000.0         7.0     864.0           7.0     2004.0         65.0\n",
      "1167   215000.0         6.0    1602.0           8.0     1977.0          NaN\n",
      "      SalePrice  OveralQual  1stFlrSF  TotRmsAbvGrd  YearBuilt  LotFrontage\n",
      "1168   179665.0         7.0     664.0           7.0     2006.0         58.0\n",
      "1169   150500.0         5.0    1040.0           5.0     1977.0         61.0\n",
      "1170   140000.0         6.0     810.0           7.0     1925.0          NaN\n",
      "1171   173000.0         6.0     798.0           6.0     2004.0         65.0\n",
      "1172    34900.0         4.0     720.0           4.0     1920.0         60.0\n"
     ]
    }
   ],
   "source": [
    "## Main del programa\n",
    "import numpy as np\n",
    "import pandas as pd\n",
    "import seaborn as sb\n",
    "DatosProyecto, DatosEntreno, DatosPruebas = CargaDatos()\n",
    "print(f\"La longitud del Data Frame original es {len(DatosProyecto)}\\n La Longitud del set de entrenamiento es {len(DatosEntreno)}'\\n La longitud del segmento de pruebas es {len(DatosPruebas)}\")\n",
    "print(pd.DataFrame.head(DatosProyecto))\n",
    "print(DatosProyecto.iloc[[1167], : ])\n",
    "print(pd.DataFrame.tail(DatosEntreno))\n",
    "print(pd.DataFrame.head(DatosPruebas))\n"
   ]
  }
 ],
 "metadata": {
  "kernelspec": {
   "display_name": "ProyectoRegresion",
   "language": "python",
   "name": "python3"
  },
  "language_info": {
   "codemirror_mode": {
    "name": "ipython",
    "version": 3
   },
   "file_extension": ".py",
   "mimetype": "text/x-python",
   "name": "python",
   "nbconvert_exporter": "python",
   "pygments_lexer": "ipython3",
   "version": "3.9.16"
  },
  "orig_nbformat": 4
 },
 "nbformat": 4,
 "nbformat_minor": 2
}
