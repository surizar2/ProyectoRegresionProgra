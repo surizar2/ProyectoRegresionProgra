{
 "cells": [
  {
   "attachments": {},
   "cell_type": "markdown",
   "metadata": {},
   "source": [
    "## Laboratorio 2"
   ]
  },
  {
   "attachments": {},
   "cell_type": "markdown",
   "metadata": {},
   "source": [
    "#### 1. Haga un programa en Python que reciba de parámetro un número de segundos y que despliegue en pantalla, las horas, minutos y segundos que representan. "
   ]
  },
  {
   "cell_type": "code",
   "execution_count": null,
   "metadata": {},
   "outputs": [],
   "source": [
    "secs = 0\n",
    "minu = 0\n",
    "horas = 0\n",
    "try:\n",
    "    segundos = int(input('ingrese una cantidad de segundos:'))\n",
    "except:\n",
    "    print('Se ingresó un valor inválido')\n",
    "else:\n",
    "    horas = int(segundos/3600)\n",
    "    segundos = segundos - horas*3600\n",
    "    if segundos > 0:\n",
    "        minu = int(segundos / 60)\n",
    "        segundos = segundos - minu*60\n",
    "        if segundos > 0:\n",
    "\n",
    "            secs = segundos\n",
    "\n",
    "    print(f'Se ingresaron {horas} horas, {minu} minutos y {secs} segundos')"
   ]
  },
  {
   "attachments": {},
   "cell_type": "markdown",
   "metadata": {},
   "source": [
    "#### 2. Haga una funci´on en Python que dado un número entre 1 y 20. Y un car´acter cualquiera despliegue cuatro patrones triangulares."
   ]
  },
  {
   "cell_type": "code",
   "execution_count": 90,
   "metadata": {},
   "outputs": [
    {
     "name": "stdout",
     "output_type": "stream",
     "text": [
      "\n",
      "*\n",
      "**\n",
      "***\n",
      "****\n",
      "*****\n",
      "******\n",
      "\n",
      "******\n",
      " *****\n",
      "  ****\n",
      "   ***\n",
      "    **\n",
      "     *\n",
      "\n",
      "******\n",
      "*****\n",
      "****\n",
      "***\n",
      "**\n",
      "*\n",
      "      \n",
      "     *\n",
      "    **\n",
      "   ***\n",
      "  ****\n",
      " *****\n",
      "******\n",
      "\n"
     ]
    }
   ],
   "source": [
    "def triangulos(a):\n",
    "    x = 1\n",
    "    stringTriangulo1 =''\n",
    "    stringTemp = ''\n",
    "    print(stringTemp)\n",
    "    for i in range(a):\n",
    "        stringTemp = ''\n",
    "        for j in range(x):\n",
    "            stringTemp = stringTemp + '*'\n",
    "            \n",
    "        stringTriangulo1 = stringTriangulo1 + stringTemp + '\\n'\n",
    "        x = x + 1\n",
    "\n",
    "    stringTriangulo2 = stringTemp\n",
    "    x = 1\n",
    "    for k in range(a):\n",
    "        stringTriangulo2 = stringTriangulo2 + stringTemp[:-k] + '\\n'\n",
    "    \n",
    "    \n",
    "    #stringTriangulo3 = stringTemp[0:] + '\\n' + ' ' + stringTemp[:3] + '\\n' + '  ' + stringTemp[:2] + '\\n'\n",
    "    stringTriangulo3 = ''\n",
    "    for i in range(a):\n",
    "        stringTriangulo3 = stringTriangulo3 + ' '*i + stringTemp[:a-i] + '\\n'\n",
    "    stringTriangulo4 = ''\n",
    "    for i in range(a):\n",
    "        stringTriangulo4 = stringTriangulo4 + ' '*(a-i) + stringTemp[:i-a] + '\\n'\n",
    "    stringTriangulo4 += stringTemp + '\\n'\n",
    "    \n",
    "    stringTriangulos = stringTriangulo1 + '\\n' + stringTriangulo3 + '\\n' + stringTriangulo2 + stringTriangulo4\n",
    "    return stringTriangulos\n",
    "\n",
    "n = int(input('Ingrese un número entero:'))\n",
    "string = triangulos(n)\n",
    "print(string)"
   ]
  },
  {
   "attachments": {},
   "cell_type": "markdown",
   "metadata": {},
   "source": [
    "#### 3. Haga un programa en Python que la fecha de nacimiento de una persona (puede ingresar por separado cada valor, es decir pedir primero día, luego mes y luego an˜o), despliegue la edad de la persona en an˜os, meses y días. Su resultado puede ser aproximado."
   ]
  },
  {
   "cell_type": "code",
   "execution_count": null,
   "metadata": {},
   "outputs": [],
   "source": []
  },
  {
   "cell_type": "code",
   "execution_count": null,
   "metadata": {},
   "outputs": [],
   "source": [
    "from datetime import date\n",
    "from datetime import datetime\n",
    "FechaHoy = date.today()\n",
    "AnioFecha = input('Ingrese un año de nacimiento')\n",
    "MesFecha = input('Ingrese mes de nacimiento')\n",
    "DiaFecha = input('Ingrese día de nacimiento')\n",
    "Fecha = MesFecha + '-' + DiaFecha + '-' + AnioFecha\n",
    "FechaTest = datetime.strptime(Fecha, '%m-%d-%Y')\n",
    "FechaTest =date(FechaTest.year,FechaTest.month,FechaTest.day)\n",
    "FechaDif = FechaHoy - FechaTest\n",
    "Comodin = FechaDif.days\n",
    "Aniospasados = int(Comodin/365)\n",
    "Comodin = Comodin - 365*Aniospasados\n",
    "MesesPasados = int(Comodin/30)\n",
    "Comodin = Comodin - 30*MesesPasados\n",
    "DiasPasados = int(Comodin)\n",
    "print(f'La edad aproximada es {Aniospasados} años, {MesesPasados} meses y {DiasPasados} días')\n"
   ]
  },
  {
   "attachments": {},
   "cell_type": "markdown",
   "metadata": {},
   "source": [
    "#### 4. Escriba una función en Python que dada una tupla de elementos (números o letras) esta se convierta a un string"
   ]
  },
  {
   "cell_type": "code",
   "execution_count": null,
   "metadata": {},
   "outputs": [],
   "source": [
    "t = (10,20,30)\n",
    "string = ''\n",
    "for value in t:\n",
    "    string = string + str((value))\n",
    "print(string)"
   ]
  },
  {
   "attachments": {},
   "cell_type": "markdown",
   "metadata": {},
   "source": [
    "#### 5. Cree un programa en Python que dada una lista de tuplas, elimine las tuplas que están vacías."
   ]
  },
  {
   "cell_type": "code",
   "execution_count": null,
   "metadata": {},
   "outputs": [],
   "source": [
    "lista = [(),(1,2,3),('a','b'),()]\n",
    "len(lista[0])\n",
    "for value in lista:\n",
    "    if value == ():\n",
    "        lista.remove(value)\n",
    "print(lista)"
   ]
  },
  {
   "attachments": {},
   "cell_type": "markdown",
   "metadata": {},
   "source": [
    "#### 6. Cree una función en Python que dada una tupla de tuplas con números, produzca una tupla con el promedio de cada tupla individual."
   ]
  },
  {
   "cell_type": "code",
   "execution_count": null,
   "metadata": {},
   "outputs": [],
   "source": [
    "tupla1 = ((10,30,22),(1,4,6),(25,32,55),(20,10,30),(1,1,4,5))\n",
    "tuplaproms = []\n",
    "VarSum = 0\n",
    "conta = 0\n",
    "tupla2 = list(tupla1)\n",
    "for index,value in enumerate(tupla2):\n",
    "    for value2 in value:\n",
    "        conta = conta + 1\n",
    "        VarSum += value2\n",
    "    VarSum = VarSum/conta\n",
    "    tuplaproms.append(VarSum)\n",
    "    VarSum = 0\n",
    "    conta = 0\n",
    "tuplaproms = tuple(tuplaproms)\n",
    "print(f'la tupla de promedios es: {tuplaproms}')\n"
   ]
  },
  {
   "attachments": {},
   "cell_type": "markdown",
   "metadata": {},
   "source": [
    "#### 7. Escribir un programa que gestione las facturas pendientes de cobro de una empresa. Las facturas se almacenarán en un diccionario donde la llave de cada factura será el número de factura (debe utilizar un numero de 4 d´ıgitos) y el valor el coste de la factura. El programa debe preguntar al usuario si quiere an˜adir una nueva factura, pagar una existente o terminar. Si desea an˜adir una nueva factura se preguntará por el número de factura y su coste y se an˜adirá al diccionario, para confirmar que la factura se ingreso correctamente el programa debe desplegar el diccionario completo. Si se desea pagar una factura se preguntará por el número de factura y se eliminará del diccionario. Despu´es de cada operaci´on el programa debe mostrar en pantalla la cantidad cobrada hasta el momento y la cantidad pendiente de cobro. Puede utilizar otras estructuras de datos como apoyo si lo considera necesario."
   ]
  },
  {
   "cell_type": "code",
   "execution_count": null,
   "metadata": {},
   "outputs": [],
   "source": [
    "ValaCobrar = 0\n",
    "DicFacturas = {}\n",
    "ban = 0\n",
    "while ban == 0:\n",
    "    ban = int(input('Bienvenido al sistema de gestión de facturas \\n\\n*Presione 1 para ingresar una factura pendiente\\n*Presione 2 para operar una factura\\n*Presione cualquier otra tecla para salir'))\n",
    "    if ban == 1:\n",
    "        NumeroFact = str(input('Ingrese el número de factura (4)dígitos'))\n",
    "        if len(NumeroFact) == 4:\n",
    "            ValorFact = float(input('Ingrese el monto de la factura'))\n",
    "            DicFacturas[NumeroFact] = ValorFact\n",
    "            ban = 0\n",
    "        else:\n",
    "            print('Número de factura inválido')\n",
    "            ban = 0\n",
    "    \n",
    "    if ban == 2:\n",
    "        NumeroBorrar = input('Ingrese el número de factura a pagar')\n",
    "        try:\n",
    "            ValaCobrar = ValaCobrar + DicFacturas[NumeroBorrar]\n",
    "            (DicFacturas.pop(NumeroBorrar))\n",
    "        except:\n",
    "            print('Esta factura no existe en el sistema')\n",
    "        ban = 0\n",
    "    print(f'las facturas ingresadas son {DicFacturas}')\n",
    "    print(f'El monto ya pagado es de {ValaCobrar}')\n"
   ]
  },
  {
   "attachments": {},
   "cell_type": "markdown",
   "metadata": {},
   "source": [
    "#### 8. Haga una función en Python, que cree un set con todas las cartas de una baraja de Póker utilizando el siguiente formato: Tipo-Numero. Utilice las letras T para tréboles, C para corazones, P para picas y E para espadas. Para los números utilice la numeración del 1 al 13. Por ejemplo E13 - sería Rey de Espadas, P01 sería As de Picas, T05 sería cinco de Tréboles. Posteriormente cree una función que dado el conjunto anterior cree dos sets nuevos de cartas, cada conjunto debe tener una cantidad variable de elementos, puede utilizar nu´meros aleatorios enteros para definir la longitud de los conjuntos.\n",
    "\n",
    "#### Adicionalmente, deberá calcular la probabilidad de la intersección de ambos conjuntos y demuestre si son eventos independientes con la regla del producto.\n",
    "\n",
    "#### Para concluir, calcule probabilidad de la unión de ambos conjuntos y demuestre que se cumple la regla de la adición."
   ]
  },
  {
   "cell_type": "code",
   "execution_count": 117,
   "metadata": {},
   "outputs": [
    {
     "name": "stdout",
     "output_type": "stream",
     "text": [
      "La intersección de los sets tiene una probabilidad de 0.2711864406779661\n",
      "La intersección de los conjuntos es: {'E13', 'C07', 'E03', 'P09', 'C04', 'P04', 'T01', 'E05', 'C01', 'P12', 'T11', 'C13', 'T07', 'P01', 'E11', 'C10'}\n",
      "30\n",
      "29\n",
      "0.6976744186046512\n",
      "0.6744186046511628\n"
     ]
    },
    {
     "data": {
      "text/plain": [
       "1.100906582577848"
      ]
     },
     "execution_count": 117,
     "metadata": {},
     "output_type": "execute_result"
    }
   ],
   "source": [
    "import random\n",
    "\n",
    "palos = ['T','C','P','E']\n",
    "numeros = ['01','02','03','04','05','06','07','08','09','10','11','12','13']\n",
    "SizeDeck1 = random.randint(1,52)\n",
    "SizeDeck2 = random.randint(1,52)\n",
    "baraja = []\n",
    "for Palo in palos:\n",
    "    for numero in numeros:\n",
    "        carta = Palo + numero\n",
    "        baraja.append(carta)\n",
    "\n",
    "baraja1 = set(random.sample(baraja,SizeDeck1))\n",
    "baraja2 = set(random.sample(baraja,SizeDeck2))\n",
    "IntersectCartas = baraja1.intersection(baraja2)\n",
    "ProbIntersect = len(IntersectCartas)/(len(baraja1) + len(baraja2))\n",
    "print(f'La intersección de los sets tiene una probabilidad de {ProbIntersect}')\n",
    "print(f'La intersección de los conjuntos es: {IntersectCartas}')\n",
    "print(len(baraja1))\n",
    "print(len(baraja2))\n",
    "CartasDiferentes = len(baraja1) + len(baraja2) -len(IntersectCartas)\n",
    "Prob1 = len(baraja1)/(CartasDiferentes)\n",
    "print(Prob1)\n",
    "Prob2 = len(baraja2)/(CartasDiferentes)\n",
    "print(Prob2)\n",
    "ProbUnion = Prob1 + Prob2 - ProbIntersect\n",
    "ProbUnion"
   ]
  }
 ],
 "metadata": {
  "kernelspec": {
   "display_name": "Python 3",
   "language": "python",
   "name": "python3"
  },
  "language_info": {
   "codemirror_mode": {
    "name": "ipython",
    "version": 3
   },
   "file_extension": ".py",
   "mimetype": "text/x-python",
   "name": "python",
   "nbconvert_exporter": "python",
   "pygments_lexer": "ipython3",
   "version": "3.9.6"
  },
  "orig_nbformat": 4
 },
 "nbformat": 4,
 "nbformat_minor": 2
}
